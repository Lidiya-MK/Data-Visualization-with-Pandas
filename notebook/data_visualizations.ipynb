{
 "cells": [
  {
   "cell_type": "markdown",
   "metadata": {},
   "source": [
    "# Python Data Visualizations\n",
    "\n",
    "   - I will first create my own sample data to check if the packages are working properly then the fun with real data begins!"
   ]
  },
  {
   "cell_type": "code",
   "execution_count": 1,
   "metadata": {},
   "outputs": [],
   "source": [
    "import pandas as pd\n",
    "import numpy as np"
   ]
  },
  {
   "cell_type": "code",
   "execution_count": 7,
   "metadata": {},
   "outputs": [],
   "source": [
    "# I will take the courses I am currently taking at my university as a sample data\n",
    "course_details=[[\"SECT-M5201\", \"Advanced Development\",\"SECT-4221\",\"Enterprise Application Developement\",7.00],\n",
    "                [\"SECT-M4451\", \"Machine Learning and big data\",\"SECT-4451\",\"Machine Learning and big data\",7.00],\n",
    "                [\"SECT-M4181\", \"System Modeling\",\"SECT-4181\",\"Requirement Engineering and architectire\",7.00],\n",
    "                [\"SECT-M4141\", \"High performance computing\",\"SECT-4141\",\"Fundamentals of distributed systems\",7.00],\n",
    "                [\"SECT-M4231\", \"Software project management\",\"SECT-4231\",\"Software Project Management\",7.00]]\n",
    "\n",
    "column_lables= [\"Module Code\", \"Module Name\", \"Course Code\", \"Course Title\", \"ECTS\"]"
   ]
  },
  {
   "cell_type": "code",
   "execution_count": 8,
   "metadata": {},
   "outputs": [],
   "source": [
    "course_table = pd.DataFrame(data= course_details, columns=column_lables)"
   ]
  },
  {
   "cell_type": "code",
   "execution_count": 9,
   "metadata": {},
   "outputs": [
    {
     "data": {
      "text/html": [
       "<div>\n",
       "<style scoped>\n",
       "    .dataframe tbody tr th:only-of-type {\n",
       "        vertical-align: middle;\n",
       "    }\n",
       "\n",
       "    .dataframe tbody tr th {\n",
       "        vertical-align: top;\n",
       "    }\n",
       "\n",
       "    .dataframe thead th {\n",
       "        text-align: right;\n",
       "    }\n",
       "</style>\n",
       "<table border=\"1\" class=\"dataframe\">\n",
       "  <thead>\n",
       "    <tr style=\"text-align: right;\">\n",
       "      <th></th>\n",
       "      <th>Module Code</th>\n",
       "      <th>Module Name</th>\n",
       "      <th>Course Code</th>\n",
       "      <th>Course Title</th>\n",
       "      <th>ECTS</th>\n",
       "    </tr>\n",
       "  </thead>\n",
       "  <tbody>\n",
       "    <tr>\n",
       "      <th>0</th>\n",
       "      <td>SECT-M5201</td>\n",
       "      <td>Advanced Development</td>\n",
       "      <td>SECT-4221</td>\n",
       "      <td>Enterprise Application Developement</td>\n",
       "      <td>7.0</td>\n",
       "    </tr>\n",
       "    <tr>\n",
       "      <th>1</th>\n",
       "      <td>SECT-M4451</td>\n",
       "      <td>Machine Learning and big data</td>\n",
       "      <td>SECT-4451</td>\n",
       "      <td>Machine Learning and big data</td>\n",
       "      <td>7.0</td>\n",
       "    </tr>\n",
       "    <tr>\n",
       "      <th>2</th>\n",
       "      <td>SECT-M4181</td>\n",
       "      <td>System Modeling</td>\n",
       "      <td>SECT-4181</td>\n",
       "      <td>Requirement Engineering and architectire</td>\n",
       "      <td>7.0</td>\n",
       "    </tr>\n",
       "    <tr>\n",
       "      <th>3</th>\n",
       "      <td>SECT-M4141</td>\n",
       "      <td>High performance computing</td>\n",
       "      <td>SECT-4141</td>\n",
       "      <td>Fundamentals of distributed systems</td>\n",
       "      <td>7.0</td>\n",
       "    </tr>\n",
       "    <tr>\n",
       "      <th>4</th>\n",
       "      <td>SECT-M4231</td>\n",
       "      <td>Software project management</td>\n",
       "      <td>SECT-4231</td>\n",
       "      <td>Software Project Management</td>\n",
       "      <td>7.0</td>\n",
       "    </tr>\n",
       "  </tbody>\n",
       "</table>\n",
       "</div>"
      ],
      "text/plain": [
       "  Module Code                    Module Name Course Code  \\\n",
       "0  SECT-M5201           Advanced Development   SECT-4221   \n",
       "1  SECT-M4451  Machine Learning and big data   SECT-4451   \n",
       "2  SECT-M4181                System Modeling   SECT-4181   \n",
       "3  SECT-M4141     High performance computing   SECT-4141   \n",
       "4  SECT-M4231    Software project management   SECT-4231   \n",
       "\n",
       "                               Course Title  ECTS  \n",
       "0       Enterprise Application Developement   7.0  \n",
       "1             Machine Learning and big data   7.0  \n",
       "2  Requirement Engineering and architectire   7.0  \n",
       "3       Fundamentals of distributed systems   7.0  \n",
       "4               Software Project Management   7.0  "
      ]
     },
     "execution_count": 9,
     "metadata": {},
     "output_type": "execute_result"
    }
   ],
   "source": [
    "course_table"
   ]
  },
  {
   "cell_type": "code",
   "execution_count": null,
   "metadata": {},
   "outputs": [],
   "source": []
  }
 ],
 "metadata": {
  "kernelspec": {
   "display_name": "Python 3",
   "language": "python",
   "name": "python3"
  },
  "language_info": {
   "codemirror_mode": {
    "name": "ipython",
    "version": 3
   },
   "file_extension": ".py",
   "mimetype": "text/x-python",
   "name": "python",
   "nbconvert_exporter": "python",
   "pygments_lexer": "ipython3",
   "version": "3.12.2"
  }
 },
 "nbformat": 4,
 "nbformat_minor": 2
}
